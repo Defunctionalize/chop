{
 "cells": [
  {
   "cell_type": "markdown",
   "metadata": {},
   "source": [
    "# D3b Data Engineer Exercises\n",
    "\n",
    "There are two sections, the first is composed of\n",
    "straight coding exercises and the second are exercises based on a provided\n",
    "SQLite database. Each section shouldn’t take more than about an hour, but we\n",
    "provide 24 hours so that you have time to provide code that you’re happy with.\n",
    "You can email your solution or provide a pointer to it hosted somewhere like\n",
    "GitHub/GitLab.\n",
    "\n",
    "## Coding Section\n",
    "\n",
    "Write a solution for the functions/classes\n",
    "described below, please consider:\n",
    "\n",
    "  - Efficiency in both space and time\n",
    "  -\n",
    "Edge cases and error handling\n",
    "  - Tests\n",
    "\n",
    "We prefer you to use python. You can\n",
    "use other languages, but please explain why. \n",
    "\n",
    "### Coding Exercise 1: Flatten\n",
    "Nested List"
   ]
  },
  {
   "cell_type": "code",
   "execution_count": 1,
   "metadata": {
    "attributes": {
     "classes": [],
     "id": "",
     "n": "1"
    }
   },
   "outputs": [],
   "source": [
    "def flatten_list(nested_list):\n",
    "    \"\"\"\n",
    "    Flatten an\n",
    "arbitrarily nested list\n",
    "\n",
    "    Parameters\n",
    "    ----------\n",
    "    nested_list : nested list of int List with item to be either integers or list\n",
    "    Example: [2,[[3,[4]], 5]]\n",
    "\n",
    "    Returns\n",
    "    -------\n",
    "    flat_list : list of int\n",
    "    A flattened list with only integers\n",
    "        Example: [2,3,4,5]\n",
    "      \"\"\""
   ]
  },
  {
   "cell_type": "code",
   "execution_count": 2,
   "metadata": {
    "attributes": {
     "classes": [],
     "id": "",
     "n": "2"
    }
   },
   "outputs": [],
   "source": [
    "from collections import abc, namedtuple\n",
    "from itertools import chain\n",
    "\n",
    "def flatten_list(nested_list):\n",
    "    \"returns an iterable of each integer in arbitrarily nested list.  use list() to collect\"\n",
    "    return chain.from_iterable(\n",
    "            flatten_list(elem) if isinstance(elem, abc.Iterable) else [elem]\n",
    "            for elem in nested_list)"
   ]
  },
  {
   "cell_type": "code",
   "execution_count": 3,
   "metadata": {
    "attributes": {
     "classes": [],
     "id": "",
     "n": "3"
    }
   },
   "outputs": [
    {
     "data": {
      "text/plain": [
       "[0, 1, 5, 4, 3, 3, 4]"
      ]
     },
     "execution_count": 3,
     "metadata": {},
     "output_type": "execute_result"
    }
   ],
   "source": [
    "list(flatten_list([0, [1, [5, 4, 3], 3], [4]]))"
   ]
  },
  {
   "cell_type": "markdown",
   "metadata": {},
   "source": [
    "### Coding Exercise 2: Serialize a Binary Tree\n",
    "\n",
    "Serializes a tree\n",
    "from top to\n",
    "bottom, left to right to a list of values\n",
    "Parameters\n",
    "----------\n",
    "root_node : root\n",
    "node of a binary tree\n",
    "    The tree is not\n",
    "ordered or balanced, it's just a\n",
    "binary tree\n",
    "    Example:\n",
    "        1\n",
    "       / \\\n",
    "      2   3\n",
    "     / \\ / \\\n",
    "       4\n",
    "2\n",
    "  \n",
    "Returns\n",
    "-------\n",
    "serial_tree :  A list of\n",
    "serialized values\n",
    "    Example:\n",
    "[1,2,3,None,4,2,None]"
   ]
  },
  {
   "cell_type": "code",
   "execution_count": 4,
   "metadata": {
    "attributes": {
     "classes": [],
     "id": "",
     "n": "4"
    }
   },
   "outputs": [],
   "source": [
    "from collections import namedtuple\n",
    "Node = namedtuple('Node', (\"value\", \"left\", \"right\"))"
   ]
  },
  {
   "cell_type": "code",
   "execution_count": 5,
   "metadata": {
    "attributes": {
     "classes": [],
     "id": "",
     "n": "12"
    }
   },
   "outputs": [],
   "source": [
    "def serialize_tree(node: Node):\n",
    "\tassert node.value is not None, \"nodes must have a value, left and right branches are optional\"\n",
    "\treturn chain([node.value, \n",
    "                  node.left and node.left.value,\n",
    "                  node.right and node.right.value],\n",
    "                 chain.from_iterable(map(lambda x: next(x) and False or x,\n",
    "\t\t                             map(serialize_tree, filter(None, [node.left, node.right])))))\\\n",
    "\t       if (node.left or node.right) else chain([node.value])"
   ]
  },
  {
   "cell_type": "code",
   "execution_count": 6,
   "metadata": {
    "attributes": {
     "classes": [],
     "id": "",
     "n": "6"
    }
   },
   "outputs": [
    {
     "data": {
      "text/plain": [
       "[1, 2, 3, None, 4, 2, None]"
      ]
     },
     "execution_count": 6,
     "metadata": {},
     "output_type": "execute_result"
    }
   ],
   "source": [
    "example_tree = Node(1,\n",
    "\tNode(2, None,\n",
    "\t        Node(4, None, None)),\n",
    "\tNode(3, Node(2, None, None),\n",
    "\t        None)\n",
    ")\n",
    "\n",
    "list(serialize_tree(example_tree))\n"
   ]
  },
  {
   "cell_type": "markdown",
   "metadata": {},
   "source": [
    "## Data Section\n",
    "\n",
    "This section consists of short exercises in analysis of a\n",
    "relational health-related database in SQLite, downloadable from here:\n",
    "https://www.dropbox.com/s/mgu1s93kpjsoyhh/openmrs.db?dl=0\n",
    "\n",
    "This database is a\n",
    "processed version of the public data set for a specific instance of a query\n",
    "tool. The original open MRS data model can be found here:\n",
    "https://wiki.openmrs.org/display/docs/Data+Model. The solutions should be done\n",
    "on the data in SQLite database provided. You can convert it to a database flavor\n",
    "of your choice, but again, explain your choice. \n",
    "\n",
    "Key tables include:\n",
    "- patient\n",
    "- encounter\n",
    "- encounter_diagnosis\n",
    "- lab_result\n",
    "- diagnosis\n",
    "\n",
    "Please provide both\n",
    "the data result as well as any code that was run to obtain the result."
   ]
  },
  {
   "cell_type": "code",
   "execution_count": 7,
   "metadata": {
    "attributes": {
     "classes": [],
     "id": "",
     "n": "7"
    }
   },
   "outputs": [],
   "source": [
    "import sqlite3\n",
    "import pandas\n",
    "\n",
    "conn = sqlite3.connect(\"openmrs.db\")\n",
    "patient = pandas.read_sql_query('SELECT * from patient;', conn)\n",
    "patient.rename(columns={'id':'patient_id'}, inplace=True)\n",
    "diagnosis = pandas.read_sql_query('SELECT * from diagnosis;', conn)\n",
    "diagnosis.rename(columns={'id':'diagnosis_id'},inplace=True)\n",
    "encounter = pandas.read_sql_query('SELECT * from encounter;', conn)\n",
    "encounter.rename(columns={'id':'encounter_id'},inplace=True)\n",
    "encounter_diagnosis = pandas.read_sql_query('SELECT * from encounter_diagnosis;', conn)\n",
    "lab_result = pandas.read_sql_query('SELECT * from lab_result;', conn)\n",
    "lab_result.rename(columns={'id':'lab_result_id'},inplace=True)\n",
    "conn.close()"
   ]
  },
  {
   "cell_type": "markdown",
   "metadata": {},
   "source": [
    "### Data Exercise 1\n",
    "\n",
    "Provide a list of male patients in the database and the\n",
    "counts of patients by gender."
   ]
  },
  {
   "cell_type": "code",
   "execution_count": 8,
   "metadata": {
    "attributes": {
     "classes": [],
     "id": "",
     "n": "8"
    }
   },
   "outputs": [
    {
     "data": {
      "text/plain": [
       "0          1\n",
       "8         24\n",
       "9         28\n",
       "10        29\n",
       "11        33\n",
       "        ... \n",
       "5279    9337\n",
       "5280    9338\n",
       "5282    9344\n",
       "5283    9345\n",
       "5284    9346\n",
       "Name: patient_id, Length: 3485, dtype: int64"
      ]
     },
     "execution_count": 8,
     "metadata": {},
     "output_type": "execute_result"
    }
   ],
   "source": [
    "patient[~(patient.gender == 'M')].patient_id"
   ]
  },
  {
   "cell_type": "markdown",
   "metadata": {},
   "source": [
    "### Data Exercise 2\n",
    "\n",
    "Count patients in database\n",
    "diagnosed with DERMITITIS at an\n",
    "encounter."
   ]
  },
  {
   "cell_type": "code",
   "execution_count": 9,
   "metadata": {
    "attributes": {
     "classes": [],
     "id": "",
     "n": "9"
    }
   },
   "outputs": [
    {
     "data": {
      "text/plain": [
       "159"
      ]
     },
     "execution_count": 9,
     "metadata": {},
     "output_type": "execute_result"
    }
   ],
   "source": [
    "dermatitis = diagnosis[diagnosis.name.str.startswith('DERMATITIS')]['diagnosis_id']\n",
    "derm_encounter = pandas.merge(encounter_diagnosis, dermatitis, on='diagnosis_id', how='inner')['encounter_id']\n",
    "derm_patient = pandas.merge(encounter, derm_encounter, on='encounter_id', how='inner')['patient_id']\n",
    "len(derm_patient.unique())"
   ]
  },
  {
   "cell_type": "markdown",
   "metadata": {},
   "source": [
    "### Data Exercise 3\n",
    "\n",
    "Provide a list\n",
    "patients, by MRN, who have had a\n",
    "CD4 count\n",
    "of less than 300."
   ]
  },
  {
   "cell_type": "code",
   "execution_count": 10,
   "metadata": {
    "attributes": {
     "classes": [],
     "id": "",
     "n": "10"
    }
   },
   "outputs": [
    {
     "data": {
      "text/plain": [
       "array(['MRN000036', 'MRN000042', 'MRN000048', 'MRN000063', 'MRN000065',\n",
       "       'MRN000083', 'MRN000100', 'MRN000112', 'MRN000148', 'MRN000156',\n",
       "       'MRN000205', 'MRN000243', 'MRN000266', 'MRN000272', 'MRN000282',\n",
       "       'MRN000288', 'MRN000325', 'MRN000335', 'MRN000346', 'MRN000381',\n",
       "       'MRN000387', 'MRN000391', 'MRN000405', 'MRN000432', 'MRN000454',\n",
       "       'MRN000461', 'MRN000520', 'MRN000526', 'MRN000550', 'MRN000568',\n",
       "       'MRN000569', 'MRN000574', 'MRN000584', 'MRN000592', 'MRN000610',\n",
       "       'MRN000630', 'MRN000637', 'MRN000648', 'MRN000683', 'MRN000686',\n",
       "       'MRN000692', 'MRN000694', 'MRN000710', 'MRN000750', 'MRN000765',\n",
       "       'MRN000773', 'MRN000792', 'MRN000797', 'MRN000815', 'MRN000833',\n",
       "       'MRN000848', 'MRN000869', 'MRN000904', 'MRN000914', 'MRN000915',\n",
       "       'MRN000916', 'MRN000917', 'MRN000922', 'MRN000950', 'MRN000965',\n",
       "       'MRN000988', 'MRN001020', 'MRN001029', 'MRN001037', 'MRN001063',\n",
       "       'MRN001066', 'MRN001103', 'MRN001108', 'MRN001150', 'MRN001151',\n",
       "       'MRN001160', 'MRN001204', 'MRN001210', 'MRN001231', 'MRN001239',\n",
       "       'MRN001251', 'MRN001263', 'MRN001264', 'MRN001271', 'MRN001281',\n",
       "       'MRN001307', 'MRN001308', 'MRN001350', 'MRN001362', 'MRN001368',\n",
       "       'MRN001394', 'MRN001404', 'MRN001411', 'MRN001412', 'MRN001425',\n",
       "       'MRN001445', 'MRN001473', 'MRN001481', 'MRN001505', 'MRN001519',\n",
       "       'MRN001542', 'MRN001557', 'MRN001559', 'MRN001562', 'MRN001578',\n",
       "       'MRN001600', 'MRN001604', 'MRN001610', 'MRN001638', 'MRN001642',\n",
       "       'MRN001645', 'MRN001655', 'MRN001689', 'MRN001697', 'MRN001699',\n",
       "       'MRN001717', 'MRN001719', 'MRN001758', 'MRN001762', 'MRN001767',\n",
       "       'MRN001770', 'MRN001776', 'MRN001787', 'MRN001796', 'MRN001804',\n",
       "       'MRN001813', 'MRN001814', 'MRN001837', 'MRN001846', 'MRN001848',\n",
       "       'MRN001859', 'MRN001862', 'MRN001882', 'MRN001886', 'MRN001906',\n",
       "       'MRN001918', 'MRN001924', 'MRN001938', 'MRN001946', 'MRN001947',\n",
       "       'MRN001950', 'MRN001954', 'MRN001999', 'MRN002018', 'MRN002044',\n",
       "       'MRN002049', 'MRN002054', 'MRN002070', 'MRN002074', 'MRN002085',\n",
       "       'MRN002090', 'MRN002108', 'MRN002112', 'MRN002131', 'MRN002140',\n",
       "       'MRN002147', 'MRN002156', 'MRN002176', 'MRN002187', 'MRN002189',\n",
       "       'MRN002201', 'MRN002206', 'MRN002212', 'MRN002215', 'MRN002224',\n",
       "       'MRN002225', 'MRN002261', 'MRN002265', 'MRN002269', 'MRN002275',\n",
       "       'MRN002294', 'MRN002309', 'MRN002310', 'MRN002322', 'MRN002331',\n",
       "       'MRN002339', 'MRN002351', 'MRN002357', 'MRN002372', 'MRN002388',\n",
       "       'MRN002395', 'MRN002396', 'MRN002406', 'MRN002415', 'MRN002416',\n",
       "       'MRN002424', 'MRN002430', 'MRN002435', 'MRN002438', 'MRN002447',\n",
       "       'MRN002450', 'MRN002472', 'MRN002480', 'MRN002496', 'MRN002504',\n",
       "       'MRN002511', 'MRN002522', 'MRN002525', 'MRN002543', 'MRN002562',\n",
       "       'MRN002578', 'MRN002591', 'MRN002592', 'MRN002617', 'MRN002630',\n",
       "       'MRN002634', 'MRN002645', 'MRN002654', 'MRN002664', 'MRN002665',\n",
       "       'MRN002668', 'MRN002682', 'MRN002696', 'MRN002716', 'MRN002718',\n",
       "       'MRN002724', 'MRN002732', 'MRN002733', 'MRN002761', 'MRN002762',\n",
       "       'MRN002770', 'MRN002773', 'MRN002774', 'MRN002780', 'MRN002783',\n",
       "       'MRN002784', 'MRN002787', 'MRN002793', 'MRN002795', 'MRN002809',\n",
       "       'MRN002821', 'MRN002827', 'MRN002865', 'MRN002883', 'MRN002892',\n",
       "       'MRN002903', 'MRN002938', 'MRN002944', 'MRN002946', 'MRN002950',\n",
       "       'MRN002959', 'MRN002962', 'MRN002967', 'MRN002975', 'MRN003000',\n",
       "       'MRN003003', 'MRN003015', 'MRN003042', 'MRN003054', 'MRN003101',\n",
       "       'MRN003107', 'MRN003116', 'MRN003130', 'MRN003154', 'MRN003155',\n",
       "       'MRN003162', 'MRN003201', 'MRN003205', 'MRN003210', 'MRN003225',\n",
       "       'MRN003229', 'MRN003254', 'MRN003295', 'MRN003312', 'MRN003330',\n",
       "       'MRN003338', 'MRN003353', 'MRN003360', 'MRN003362', 'MRN003392',\n",
       "       'MRN003396', 'MRN003399', 'MRN003420', 'MRN003422', 'MRN003425',\n",
       "       'MRN003435', 'MRN003447', 'MRN003449', 'MRN003454', 'MRN003470',\n",
       "       'MRN003474', 'MRN003476', 'MRN003481', 'MRN003484', 'MRN003490',\n",
       "       'MRN003492', 'MRN003497', 'MRN003508', 'MRN003515', 'MRN003536',\n",
       "       'MRN003541', 'MRN003545', 'MRN003555', 'MRN003558', 'MRN003560',\n",
       "       'MRN003566', 'MRN003567', 'MRN003573', 'MRN003584', 'MRN003585',\n",
       "       'MRN003588', 'MRN003594', 'MRN003595', 'MRN003607', 'MRN003613',\n",
       "       'MRN003617', 'MRN003635', 'MRN003657', 'MRN003658', 'MRN003664',\n",
       "       'MRN003665', 'MRN003674', 'MRN003687', 'MRN003691', 'MRN003700',\n",
       "       'MRN003704', 'MRN003709', 'MRN003711', 'MRN003712', 'MRN003733',\n",
       "       'MRN003735', 'MRN003750', 'MRN003755', 'MRN003758', 'MRN003760',\n",
       "       'MRN003761', 'MRN003775', 'MRN003778', 'MRN003799', 'MRN003823',\n",
       "       'MRN003833', 'MRN003845', 'MRN003855', 'MRN003859', 'MRN003864',\n",
       "       'MRN003868', 'MRN003905', 'MRN003960', 'MRN003967', 'MRN003982',\n",
       "       'MRN003994', 'MRN003996', 'MRN004013', 'MRN004017', 'MRN004026',\n",
       "       'MRN004031', 'MRN004036', 'MRN004041', 'MRN004044', 'MRN004064',\n",
       "       'MRN004090', 'MRN004097', 'MRN004124', 'MRN004154', 'MRN004159',\n",
       "       'MRN004184', 'MRN004192', 'MRN004217', 'MRN004234', 'MRN004237',\n",
       "       'MRN004279', 'MRN004286', 'MRN004296', 'MRN004298', 'MRN004304',\n",
       "       'MRN004312', 'MRN004331', 'MRN004336', 'MRN004346', 'MRN004362',\n",
       "       'MRN004375', 'MRN004377', 'MRN004380', 'MRN004384', 'MRN004386',\n",
       "       'MRN004401', 'MRN004402', 'MRN004412', 'MRN004438', 'MRN004470',\n",
       "       'MRN004474', 'MRN004484', 'MRN004549', 'MRN004575', 'MRN004576',\n",
       "       'MRN004591', 'MRN004603', 'MRN004610', 'MRN004611', 'MRN004614',\n",
       "       'MRN004623', 'MRN004627', 'MRN004636', 'MRN004648', 'MRN004683',\n",
       "       'MRN004684', 'MRN004712', 'MRN004751', 'MRN004752', 'MRN004765',\n",
       "       'MRN004819', 'MRN004855', 'MRN004877', 'MRN004886', 'MRN004903',\n",
       "       'MRN004915', 'MRN004920', 'MRN004921', 'MRN004936', 'MRN004980',\n",
       "       'MRN004984', 'MRN005020', 'MRN005031', 'MRN005039', 'MRN005065',\n",
       "       'MRN005072', 'MRN005076', 'MRN005078', 'MRN005091', 'MRN005100',\n",
       "       'MRN005133', 'MRN005134', 'MRN005172', 'MRN005175', 'MRN005176',\n",
       "       'MRN005192', 'MRN005208', 'MRN005227', 'MRN005252', 'MRN005259',\n",
       "       'MRN005307', 'MRN005310', 'MRN005350', 'MRN005352', 'MRN005382',\n",
       "       'MRN005385', 'MRN005397', 'MRN005440', 'MRN005441', 'MRN005450',\n",
       "       'MRN005483', 'MRN005538', 'MRN005559', 'MRN005562', 'MRN005578',\n",
       "       'MRN005581', 'MRN005585', 'MRN005616', 'MRN005617', 'MRN005657',\n",
       "       'MRN005660', 'MRN005665', 'MRN005677', 'MRN005679', 'MRN005698',\n",
       "       'MRN005716', 'MRN005720', 'MRN005737', 'MRN005764', 'MRN005767',\n",
       "       'MRN005777', 'MRN005785', 'MRN005803', 'MRN005817', 'MRN005826',\n",
       "       'MRN005851', 'MRN005852', 'MRN005854', 'MRN005857', 'MRN005865',\n",
       "       'MRN005868', 'MRN005875', 'MRN005900', 'MRN005908', 'MRN005923',\n",
       "       'MRN005938', 'MRN005943', 'MRN005948', 'MRN005969', 'MRN005987',\n",
       "       'MRN005995', 'MRN006003', 'MRN006022', 'MRN006027', 'MRN006029',\n",
       "       'MRN006033', 'MRN006035', 'MRN006045', 'MRN006054', 'MRN006058',\n",
       "       'MRN006060', 'MRN006071', 'MRN006074', 'MRN006075', 'MRN006077',\n",
       "       'MRN006089', 'MRN006090', 'MRN006093', 'MRN006094', 'MRN006097',\n",
       "       'MRN006098', 'MRN006117', 'MRN006120', 'MRN006138', 'MRN006152',\n",
       "       'MRN006161', 'MRN006162', 'MRN006170', 'MRN006178', 'MRN006180',\n",
       "       'MRN006181', 'MRN006182', 'MRN006184', 'MRN006198', 'MRN006199',\n",
       "       'MRN006201', 'MRN006217', 'MRN006221', 'MRN006225', 'MRN006228',\n",
       "       'MRN006230', 'MRN006231', 'MRN006244', 'MRN006258', 'MRN006260',\n",
       "       'MRN006267', 'MRN006269', 'MRN006291', 'MRN006294', 'MRN006316',\n",
       "       'MRN006317', 'MRN006323', 'MRN006337', 'MRN006346', 'MRN006350',\n",
       "       'MRN006353', 'MRN006363', 'MRN006367', 'MRN006372', 'MRN006378',\n",
       "       'MRN006386', 'MRN006409', 'MRN006411', 'MRN006433', 'MRN006442',\n",
       "       'MRN006445', 'MRN006467', 'MRN006490', 'MRN006491', 'MRN006493',\n",
       "       'MRN006502', 'MRN006519', 'MRN006528', 'MRN006539', 'MRN006541',\n",
       "       'MRN006548', 'MRN006550', 'MRN006555', 'MRN006559', 'MRN006566',\n",
       "       'MRN006568', 'MRN006574', 'MRN006575', 'MRN006586', 'MRN006593',\n",
       "       'MRN006609', 'MRN006611', 'MRN006613', 'MRN006616', 'MRN006621',\n",
       "       'MRN006635', 'MRN006641', 'MRN006648', 'MRN006660', 'MRN006667',\n",
       "       'MRN006687', 'MRN006690', 'MRN006699', 'MRN006713', 'MRN006714',\n",
       "       'MRN006718', 'MRN006728', 'MRN006734', 'MRN006736', 'MRN006737',\n",
       "       'MRN006743', 'MRN006757', 'MRN006766', 'MRN006776', 'MRN006786',\n",
       "       'MRN006792', 'MRN006795', 'MRN006802', 'MRN006816', 'MRN006823',\n",
       "       'MRN006827', 'MRN006843', 'MRN006864', 'MRN006869', 'MRN006884',\n",
       "       'MRN006892', 'MRN006901', 'MRN006919', 'MRN006935', 'MRN006943',\n",
       "       'MRN006949', 'MRN006957', 'MRN006969', 'MRN006977', 'MRN006981',\n",
       "       'MRN006991', 'MRN007003', 'MRN007018', 'MRN007032', 'MRN007049',\n",
       "       'MRN007055', 'MRN007064', 'MRN007073', 'MRN007095', 'MRN007107',\n",
       "       'MRN007108', 'MRN007127', 'MRN007138', 'MRN007141', 'MRN007142',\n",
       "       'MRN007153', 'MRN007172', 'MRN007194', 'MRN007197', 'MRN007208',\n",
       "       'MRN007229', 'MRN007239', 'MRN007266', 'MRN007271', 'MRN007272',\n",
       "       'MRN007280', 'MRN007356', 'MRN007442', 'MRN007443', 'MRN007480',\n",
       "       'MRN007500', 'MRN007502', 'MRN007524', 'MRN007549', 'MRN007554',\n",
       "       'MRN007560', 'MRN007570', 'MRN007571', 'MRN007579', 'MRN007586',\n",
       "       'MRN007663', 'MRN007712', 'MRN007715', 'MRN007728', 'MRN007758',\n",
       "       'MRN007761', 'MRN007764', 'MRN007766', 'MRN007792', 'MRN007795',\n",
       "       'MRN007798', 'MRN007852', 'MRN007903', 'MRN007928', 'MRN007947',\n",
       "       'MRN007953', 'MRN007961', 'MRN007965', 'MRN007985', 'MRN007988',\n",
       "       'MRN007994', 'MRN007995', 'MRN008012', 'MRN008033', 'MRN008067',\n",
       "       'MRN008068', 'MRN008075', 'MRN008100', 'MRN008115', 'MRN008117',\n",
       "       'MRN008121', 'MRN008129', 'MRN008131', 'MRN008137', 'MRN008146',\n",
       "       'MRN008151', 'MRN008168', 'MRN008182', 'MRN008183', 'MRN008189',\n",
       "       'MRN008191', 'MRN008200', 'MRN008209', 'MRN008217', 'MRN008241',\n",
       "       'MRN008243', 'MRN008251', 'MRN008264', 'MRN008282', 'MRN008285',\n",
       "       'MRN008286', 'MRN008292', 'MRN008296', 'MRN008301', 'MRN008310',\n",
       "       'MRN008317', 'MRN008318', 'MRN008326', 'MRN008331', 'MRN008332',\n",
       "       'MRN008334', 'MRN008345', 'MRN008358', 'MRN008405', 'MRN008417',\n",
       "       'MRN008423', 'MRN008424', 'MRN008447', 'MRN008453', 'MRN008460',\n",
       "       'MRN008478', 'MRN008492', 'MRN008508', 'MRN008515', 'MRN008522',\n",
       "       'MRN008532', 'MRN008547', 'MRN008558', 'MRN008560', 'MRN008570',\n",
       "       'MRN008580', 'MRN008599', 'MRN008617', 'MRN008638', 'MRN008650',\n",
       "       'MRN008658', 'MRN008675', 'MRN008679', 'MRN008710', 'MRN008714',\n",
       "       'MRN008739', 'MRN008740', 'MRN008742', 'MRN008743', 'MRN008745',\n",
       "       'MRN008747', 'MRN008758', 'MRN008776', 'MRN008780', 'MRN008782',\n",
       "       'MRN008787', 'MRN008788', 'MRN008793', 'MRN008805', 'MRN008823',\n",
       "       'MRN008824', 'MRN008825', 'MRN008833', 'MRN008854', 'MRN008857',\n",
       "       'MRN008863', 'MRN008884', 'MRN008895', 'MRN008900', 'MRN008902',\n",
       "       'MRN008910', 'MRN008927', 'MRN008934', 'MRN008953', 'MRN008958',\n",
       "       'MRN008966', 'MRN008968', 'MRN008980', 'MRN008988', 'MRN008990',\n",
       "       'MRN008994', 'MRN008995', 'MRN009023', 'MRN009051', 'MRN009055',\n",
       "       'MRN009056', 'MRN009060', 'MRN009077', 'MRN009083', 'MRN009094',\n",
       "       'MRN009101', 'MRN009106', 'MRN009118', 'MRN009153', 'MRN009157',\n",
       "       'MRN009159', 'MRN009164', 'MRN009165', 'MRN009169', 'MRN009175',\n",
       "       'MRN009178', 'MRN009203', 'MRN009212', 'MRN009223', 'MRN009232',\n",
       "       'MRN009238', 'MRN009241', 'MRN009243', 'MRN009247', 'MRN009253',\n",
       "       'MRN009265', 'MRN009278', 'MRN009284', 'MRN009298', 'MRN009301',\n",
       "       'MRN009303', 'MRN009336', 'MRN009338', 'MRN009344'], dtype=object)"
      ]
     },
     "execution_count": 10,
     "metadata": {},
     "output_type": "execute_result"
    }
   ],
   "source": [
    "lt300cd4_encounter = lab_result[lab_result.cd4 < 300].encounter_id\n",
    "lt300cd4_patient = pandas.merge(encounter, lt300cd4_encounter, on='encounter_id', how='inner').patient_id\n",
    "lt300cd4_mrn = pandas.merge(patient, lt300cd4_patient, on='patient_id', how='inner').mrn.unique()\n",
    "lt300cd4_mrn"
   ]
  },
  {
   "cell_type": "markdown",
   "metadata": {},
   "source": [
    "### Data Exercise 4\n",
    "\n",
    "Count all female patients\n",
    "above the age of 30 in the\n",
    "database as of today’s\n",
    "date"
   ]
  },
  {
   "cell_type": "code",
   "execution_count": 11,
   "metadata": {
    "attributes": {
     "classes": [],
     "id": "",
     "n": "11"
    }
   },
   "outputs": [
    {
     "data": {
      "text/plain": [
       "2894"
      ]
     },
     "execution_count": 11,
     "metadata": {},
     "output_type": "execute_result"
    }
   ],
   "source": [
    "from operator import attrgetter\n",
    "from datetime import date\n",
    "thirty_years_ago_today = '-'.join(map(lambda t, delta: str(t-delta), attrgetter('year', 'month', 'day')(date.today()), [30, 0, 0]))\n",
    "len(patient[(patient.birthdate <= thirty_years_ago_today) & (patient.gender == 'F')])"
   ]
  },
  {
   "cell_type": "markdown",
   "metadata": {},
   "source": [
    "### Bonus Data Exercise\n",
    "Describe any potential\n",
    "concerns with either the\n",
    "data\n",
    "itself or the design of the\n",
    "database.\n",
    "\n",
    "I'll save the detailed discussion for the\n",
    "interview!  Could be moved to a more star based schema for analytics flexibility."
   ]
  }
 ],
 "metadata": {
  "kernelspec": {
   "display_name": "Python 3",
   "language": "python",
   "name": "python3"
  },
  "language_info": {
   "codemirror_mode": {
    "name": "ipython",
    "version": 3
   },
   "file_extension": ".py",
   "mimetype": "text/x-python",
   "name": "python",
   "nbconvert_exporter": "python",
   "pygments_lexer": "ipython3",
   "version": "3.6.8"
  }
 },
 "nbformat": 4,
 "nbformat_minor": 2
}
